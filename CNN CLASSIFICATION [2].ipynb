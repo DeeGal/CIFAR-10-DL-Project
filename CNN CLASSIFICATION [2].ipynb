{
 "cells": [
  {
   "cell_type": "code",
   "execution_count": 1,
   "id": "ec721fd8",
   "metadata": {},
   "outputs": [],
   "source": [
    "import tensorflow as tf\n",
    "from tensorflow.keras import datasets, layers, models\n",
    "import matplotlib.pyplot as plt\n",
    "import numpy as np"
   ]
  },
  {
   "cell_type": "code",
   "execution_count": 2,
   "id": "60619bac",
   "metadata": {},
   "outputs": [
    {
     "data": {
      "text/plain": [
       "(50000, 32, 32, 3)"
      ]
     },
     "execution_count": 2,
     "metadata": {},
     "output_type": "execute_result"
    }
   ],
   "source": [
    "(x_train, y_train), (x_test, y_test) = datasets.cifar10.load_data()\n",
    "x_train.shape"
   ]
  },
  {
   "cell_type": "code",
   "execution_count": 3,
   "id": "bf1b359c",
   "metadata": {},
   "outputs": [
    {
     "data": {
      "text/plain": [
       "(10000, 32, 32, 3)"
      ]
     },
     "execution_count": 3,
     "metadata": {},
     "output_type": "execute_result"
    }
   ],
   "source": [
    "x_test.shape"
   ]
  },
  {
   "cell_type": "code",
   "execution_count": 40,
   "id": "37c3e997",
   "metadata": {},
   "outputs": [
    {
     "data": {
      "text/plain": [
       "array([[[0.26222222, 0.27555556, 0.28      ],\n",
       "        [0.19111111, 0.20444444, 0.2       ],\n",
       "        [0.22222222, 0.21333333, 0.19111111],\n",
       "        ...,\n",
       "        [0.70222222, 0.58666667, 0.48      ],\n",
       "        [0.67555556, 0.55555556, 0.45333333],\n",
       "        [0.65777778, 0.55111111, 0.45777778]],\n",
       "\n",
       "       [[0.07111111, 0.08888889, 0.08888889],\n",
       "        [0.        , 0.        , 0.        ],\n",
       "        [0.08      , 0.03555556, 0.        ],\n",
       "        ...,\n",
       "        [0.54666667, 0.39111111, 0.24444444],\n",
       "        [0.52888889, 0.36888889, 0.22222222],\n",
       "        [0.54222222, 0.38666667, 0.25333333]],\n",
       "\n",
       "       [[0.11111111, 0.10666667, 0.09333333],\n",
       "        [0.07111111, 0.03111111, 0.        ],\n",
       "        [0.21777778, 0.12      , 0.03555556],\n",
       "        ...,\n",
       "        [0.52444444, 0.37333333, 0.22222222],\n",
       "        [0.53333333, 0.37333333, 0.22222222],\n",
       "        [0.48444444, 0.32444444, 0.18666667]],\n",
       "\n",
       "       ...,\n",
       "\n",
       "       [[0.92444444, 0.75555556, 0.42666667],\n",
       "        [0.89333333, 0.68      , 0.15111111],\n",
       "        [0.88      , 0.71555556, 0.11555556],\n",
       "        ...,\n",
       "        [0.71111111, 0.59111111, 0.31111111],\n",
       "        [0.24888889, 0.13777778, 0.03111111],\n",
       "        [0.23555556, 0.15111111, 0.08888889]],\n",
       "\n",
       "       [[0.8       , 0.61777778, 0.42666667],\n",
       "        [0.76888889, 0.54666667, 0.18666667],\n",
       "        [0.82666667, 0.64      , 0.13333333],\n",
       "        ...,\n",
       "        [0.81777778, 0.65777778, 0.41777778],\n",
       "        [0.43111111, 0.27555556, 0.15111111],\n",
       "        [0.36888889, 0.23555556, 0.15111111]],\n",
       "\n",
       "       [[0.78666667, 0.64      , 0.51555556],\n",
       "        [0.74666667, 0.57333333, 0.41777778],\n",
       "        [0.79555556, 0.63111111, 0.38666667],\n",
       "        ...,\n",
       "        [0.96      , 0.81777778, 0.62222222],\n",
       "        [0.67111111, 0.52444444, 0.37333333],\n",
       "        [0.54666667, 0.40888889, 0.32      ]]])"
      ]
     },
     "execution_count": 40,
     "metadata": {},
     "output_type": "execute_result"
    }
   ],
   "source": [
    "x_train[0]/225"
   ]
  },
  {
   "cell_type": "code",
   "execution_count": 39,
   "id": "f4ea1712",
   "metadata": {},
   "outputs": [
    {
     "data": {
      "text/plain": [
       "array([[[0.68444444, 0.78666667, 0.83111111],\n",
       "        [0.56      , 0.60888889, 0.60444444],\n",
       "        [0.46666667, 0.46222222, 0.42222222],\n",
       "        ...,\n",
       "        [0.40444444, 0.42222222, 0.31555556],\n",
       "        [0.38666667, 0.4       , 0.31555556],\n",
       "        [0.35111111, 0.36      , 0.31111111]],\n",
       "\n",
       "       [[0.62222222, 0.71111111, 0.75111111],\n",
       "        [0.64444444, 0.68      , 0.68444444],\n",
       "        [0.55555556, 0.55555556, 0.52444444],\n",
       "        ...,\n",
       "        [0.42666667, 0.44      , 0.34666667],\n",
       "        [0.34222222, 0.35555556, 0.27555556],\n",
       "        [0.31555556, 0.32444444, 0.27111111]],\n",
       "\n",
       "       [[0.62222222, 0.68888889, 0.72888889],\n",
       "        [0.61777778, 0.64888889, 0.66222222],\n",
       "        [0.51111111, 0.51111111, 0.49777778],\n",
       "        ...,\n",
       "        [0.35111111, 0.36444444, 0.28444444],\n",
       "        [0.30222222, 0.31111111, 0.24444444],\n",
       "        [0.29777778, 0.30666667, 0.24444444]],\n",
       "\n",
       "       ...,\n",
       "\n",
       "       [[0.77777778, 0.74222222, 0.73777778],\n",
       "        [0.69333333, 0.68444444, 0.71111111],\n",
       "        [0.68444444, 0.71111111, 0.75555556],\n",
       "        ...,\n",
       "        [0.18666667, 0.15111111, 0.16      ],\n",
       "        [0.27111111, 0.23555556, 0.25333333],\n",
       "        [0.41333333, 0.36888889, 0.40444444]],\n",
       "\n",
       "       [[0.73333333, 0.68444444, 0.56888889],\n",
       "        [0.69333333, 0.67555556, 0.57777778],\n",
       "        [0.70666667, 0.71555556, 0.63111111],\n",
       "        ...,\n",
       "        [0.45777778, 0.41333333, 0.42666667],\n",
       "        [0.54666667, 0.50666667, 0.53333333],\n",
       "        [0.58222222, 0.53777778, 0.58222222]],\n",
       "\n",
       "       [[0.72444444, 0.65777778, 0.53333333],\n",
       "        [0.70222222, 0.65777778, 0.54222222],\n",
       "        [0.72444444, 0.69333333, 0.59111111],\n",
       "        ...,\n",
       "        [0.63555556, 0.59111111, 0.61777778],\n",
       "        [0.63555556, 0.59555556, 0.63111111],\n",
       "        [0.63555556, 0.59111111, 0.64      ]]])"
      ]
     },
     "execution_count": 39,
     "metadata": {},
     "output_type": "execute_result"
    }
   ],
   "source": [
    "x_train[1]/225"
   ]
  },
  {
   "cell_type": "code",
   "execution_count": 41,
   "id": "6a21e5e6",
   "metadata": {},
   "outputs": [
    {
     "data": {
      "text/plain": [
       "array([[[1.13333333, 1.13333333, 1.13333333],\n",
       "        [1.12444444, 1.12444444, 1.12444444],\n",
       "        [1.12444444, 1.12444444, 1.12444444],\n",
       "        ...,\n",
       "        [1.12444444, 1.12444444, 1.12444444],\n",
       "        [1.12444444, 1.12444444, 1.12444444],\n",
       "        [1.12444444, 1.12444444, 1.12444444]],\n",
       "\n",
       "       [[1.13333333, 1.13333333, 1.13333333],\n",
       "        [1.13333333, 1.13333333, 1.13333333],\n",
       "        [1.13333333, 1.13333333, 1.13333333],\n",
       "        ...,\n",
       "        [1.13333333, 1.13333333, 1.13333333],\n",
       "        [1.13333333, 1.13333333, 1.13333333],\n",
       "        [1.13333333, 1.13333333, 1.13333333]],\n",
       "\n",
       "       [[1.13333333, 1.13333333, 1.13333333],\n",
       "        [1.12888889, 1.12888889, 1.12888889],\n",
       "        [1.12888889, 1.12888889, 1.12888889],\n",
       "        ...,\n",
       "        [1.12888889, 1.12888889, 1.12888889],\n",
       "        [1.12888889, 1.12888889, 1.12888889],\n",
       "        [1.12888889, 1.12888889, 1.12888889]],\n",
       "\n",
       "       ...,\n",
       "\n",
       "       [[0.50222222, 0.53333333, 0.49777778],\n",
       "        [0.49333333, 0.52444444, 0.49333333],\n",
       "        [0.46666667, 0.49777778, 0.47111111],\n",
       "        ...,\n",
       "        [0.32      , 0.36      , 0.35555556],\n",
       "        [0.32      , 0.35555556, 0.35111111],\n",
       "        [0.32      , 0.35555556, 0.35111111]],\n",
       "\n",
       "       [[0.49333333, 0.52444444, 0.48888889],\n",
       "        [0.46222222, 0.49333333, 0.46222222],\n",
       "        [0.44      , 0.47111111, 0.43555556],\n",
       "        ...,\n",
       "        [0.30222222, 0.33333333, 0.32444444],\n",
       "        [0.31111111, 0.33777778, 0.33333333],\n",
       "        [0.34666667, 0.37333333, 0.36444444]],\n",
       "\n",
       "       [[0.47111111, 0.50222222, 0.46666667],\n",
       "        [0.44      , 0.47111111, 0.43555556],\n",
       "        [0.42222222, 0.45333333, 0.41777778],\n",
       "        ...,\n",
       "        [0.34666667, 0.37777778, 0.36888889],\n",
       "        [0.35111111, 0.37777778, 0.36888889],\n",
       "        [0.35555556, 0.38222222, 0.37333333]]])"
      ]
     },
     "execution_count": 41,
     "metadata": {},
     "output_type": "execute_result"
    }
   ],
   "source": [
    "x_train[2]/225"
   ]
  },
  {
   "cell_type": "code",
   "execution_count": 42,
   "id": "9057d27f",
   "metadata": {},
   "outputs": [
    {
     "data": {
      "text/plain": [
       "array([[[0.12444444, 0.11111111, 0.04444444],\n",
       "        [0.16444444, 0.15111111, 0.08444444],\n",
       "        [0.16888889, 0.15555556, 0.08888889],\n",
       "        ...,\n",
       "        [0.33777778, 0.29777778, 0.17333333],\n",
       "        [0.36      , 0.32      , 0.19111111],\n",
       "        [0.37777778, 0.33777778, 0.20888889]],\n",
       "\n",
       "       [[0.14666667, 0.12444444, 0.05777778],\n",
       "        [0.15111111, 0.13333333, 0.06222222],\n",
       "        [0.14222222, 0.12      , 0.05333333],\n",
       "        ...,\n",
       "        [0.42222222, 0.36444444, 0.24444444],\n",
       "        [0.42666667, 0.36444444, 0.24888889],\n",
       "        [0.37777778, 0.32      , 0.2       ]],\n",
       "\n",
       "       [[0.17333333, 0.14222222, 0.06666667],\n",
       "        [0.17777778, 0.14666667, 0.07555556],\n",
       "        [0.25333333, 0.22222222, 0.14666667],\n",
       "        ...,\n",
       "        [0.41333333, 0.33777778, 0.23111111],\n",
       "        [0.47555556, 0.39555556, 0.29333333],\n",
       "        [0.42222222, 0.34222222, 0.24      ]],\n",
       "\n",
       "       ...,\n",
       "\n",
       "       [[0.36888889, 0.32444444, 0.23111111],\n",
       "        [0.38666667, 0.34222222, 0.24888889],\n",
       "        [0.37333333, 0.32888889, 0.23111111],\n",
       "        ...,\n",
       "        [0.44      , 0.41333333, 0.31111111],\n",
       "        [0.4       , 0.37333333, 0.27111111],\n",
       "        [0.36      , 0.33333333, 0.23111111]],\n",
       "\n",
       "       [[0.39111111, 0.32      , 0.22666667],\n",
       "        [0.4       , 0.32888889, 0.23111111],\n",
       "        [0.41333333, 0.34222222, 0.24888889],\n",
       "        ...,\n",
       "        [0.35555556, 0.32888889, 0.23555556],\n",
       "        [0.33777778, 0.31111111, 0.21777778],\n",
       "        [0.36444444, 0.33777778, 0.24444444]],\n",
       "\n",
       "       [[0.43111111, 0.34666667, 0.24888889],\n",
       "        [0.41777778, 0.33333333, 0.23555556],\n",
       "        [0.41333333, 0.33333333, 0.23555556],\n",
       "        ...,\n",
       "        [0.24      , 0.20888889, 0.12444444],\n",
       "        [0.28      , 0.24888889, 0.16444444],\n",
       "        [0.32      , 0.28888889, 0.20444444]]])"
      ]
     },
     "execution_count": 42,
     "metadata": {},
     "output_type": "execute_result"
    }
   ],
   "source": [
    "x_train[3]/225"
   ]
  },
  {
   "cell_type": "code",
   "execution_count": 43,
   "id": "7ac900ca",
   "metadata": {},
   "outputs": [
    {
     "data": {
      "text/plain": [
       "array([[[0.75555556, 0.8       , 0.88      ],\n",
       "        [0.74666667, 0.79111111, 0.87111111],\n",
       "        [0.78666667, 0.82222222, 0.90222222],\n",
       "        ...,\n",
       "        [0.72      , 0.79555556, 0.95555556],\n",
       "        [0.70222222, 0.79111111, 0.95111111],\n",
       "        [0.69777778, 0.78666667, 0.94222222]],\n",
       "\n",
       "       [[0.74666667, 0.80444444, 0.88      ],\n",
       "        [0.76444444, 0.82222222, 0.89333333],\n",
       "        [0.76      , 0.81333333, 0.88888889],\n",
       "        ...,\n",
       "        [0.70666667, 0.78666667, 0.94222222],\n",
       "        [0.69333333, 0.78222222, 0.93777778],\n",
       "        [0.68444444, 0.77333333, 0.92888889]],\n",
       "\n",
       "       [[0.68444444, 0.75555556, 0.82666667],\n",
       "        [0.66222222, 0.73333333, 0.80444444],\n",
       "        [0.57333333, 0.64      , 0.72      ],\n",
       "        ...,\n",
       "        [0.71555556, 0.79111111, 0.95111111],\n",
       "        [0.69777778, 0.78666667, 0.94222222],\n",
       "        [0.68444444, 0.77333333, 0.92888889]],\n",
       "\n",
       "       ...,\n",
       "\n",
       "       [[0.32888889, 0.37333333, 0.35555556],\n",
       "        [0.33777778, 0.37777778, 0.36      ],\n",
       "        [0.34666667, 0.37777778, 0.36444444],\n",
       "        ...,\n",
       "        [0.31555556, 0.33333333, 0.34666667],\n",
       "        [0.30222222, 0.32      , 0.33333333],\n",
       "        [0.27111111, 0.28888889, 0.30222222]],\n",
       "\n",
       "       [[0.30222222, 0.33777778, 0.34222222],\n",
       "        [0.30666667, 0.34222222, 0.34666667],\n",
       "        [0.32      , 0.35111111, 0.34666667],\n",
       "        ...,\n",
       "        [0.33777778, 0.35555556, 0.36888889],\n",
       "        [0.31555556, 0.33333333, 0.34666667],\n",
       "        [0.31555556, 0.33333333, 0.34666667]],\n",
       "\n",
       "       [[0.29777778, 0.33333333, 0.34666667],\n",
       "        [0.30222222, 0.33777778, 0.35111111],\n",
       "        [0.30666667, 0.33333333, 0.33777778],\n",
       "        ...,\n",
       "        [0.33333333, 0.35111111, 0.36444444],\n",
       "        [0.31555556, 0.33333333, 0.34666667],\n",
       "        [0.32444444, 0.34222222, 0.35555556]]])"
      ]
     },
     "execution_count": 43,
     "metadata": {},
     "output_type": "execute_result"
    }
   ],
   "source": [
    "x_train[4]/225"
   ]
  },
  {
   "cell_type": "code",
   "execution_count": 44,
   "id": "1c099724",
   "metadata": {},
   "outputs": [
    {
     "data": {
      "text/plain": [
       "array([[[0.70666667, 0.45333333, 0.44888889],\n",
       "        [0.66666667, 0.40444444, 0.42222222],\n",
       "        [0.68      , 0.42222222, 0.43111111],\n",
       "        ...,\n",
       "        [0.40444444, 0.31555556, 0.24888889],\n",
       "        [0.32888889, 0.28      , 0.24444444],\n",
       "        [0.33777778, 0.25777778, 0.24444444]],\n",
       "\n",
       "       [[0.63111111, 0.33333333, 0.30222222],\n",
       "        [0.64888889, 0.32      , 0.29333333],\n",
       "        [0.68888889, 0.33777778, 0.28888889],\n",
       "        ...,\n",
       "        [0.56444444, 0.46666667, 0.31555556],\n",
       "        [0.54222222, 0.49333333, 0.41333333],\n",
       "        [0.38222222, 0.30666667, 0.27111111]],\n",
       "\n",
       "       [[0.48444444, 0.29777778, 0.33333333],\n",
       "        [0.44      , 0.25777778, 0.26666667],\n",
       "        [0.46666667, 0.26222222, 0.23111111],\n",
       "        ...,\n",
       "        [0.60888889, 0.49777778, 0.35555556],\n",
       "        [0.72444444, 0.58666667, 0.46666667],\n",
       "        [0.41333333, 0.32      , 0.31555556]],\n",
       "\n",
       "       ...,\n",
       "\n",
       "       [[1.08444444, 0.57333333, 0.31111111],\n",
       "        [1.06666667, 0.54666667, 0.28888889],\n",
       "        [1.07111111, 0.54222222, 0.28888889],\n",
       "        ...,\n",
       "        [0.69333333, 0.18666667, 0.06666667],\n",
       "        [0.79555556, 0.26222222, 0.11555556],\n",
       "        [0.88888889, 0.32444444, 0.16      ]],\n",
       "\n",
       "       [[1.09333333, 0.59111111, 0.32888889],\n",
       "        [1.08      , 0.56888889, 0.32      ],\n",
       "        [1.08      , 0.56444444, 0.31111111],\n",
       "        ...,\n",
       "        [0.72      , 0.19555556, 0.06222222],\n",
       "        [0.79111111, 0.24888889, 0.09777778],\n",
       "        [0.85333333, 0.28888889, 0.12      ]],\n",
       "\n",
       "       [[1.09333333, 0.61777778, 0.36444444],\n",
       "        [1.08      , 0.59111111, 0.34666667],\n",
       "        [1.08444444, 0.58666667, 0.34222222],\n",
       "        ...,\n",
       "        [0.73777778, 0.20888889, 0.06222222],\n",
       "        [0.76888889, 0.22666667, 0.07555556],\n",
       "        [0.80888889, 0.25333333, 0.08444444]]])"
      ]
     },
     "execution_count": 44,
     "metadata": {},
     "output_type": "execute_result"
    }
   ],
   "source": [
    "x_train[5]/225"
   ]
  },
  {
   "cell_type": "code",
   "execution_count": 45,
   "id": "c901ada3",
   "metadata": {},
   "outputs": [
    {
     "data": {
      "text/plain": [
       "array([[[0.72888889, 0.91555556, 0.37333333],\n",
       "        [0.46666667, 0.62222222, 0.27111111],\n",
       "        [0.52444444, 0.65777778, 0.44888889],\n",
       "        ...,\n",
       "        [0.48444444, 0.65333333, 0.32444444],\n",
       "        [0.48      , 0.65333333, 0.30666667],\n",
       "        [0.40444444, 0.57333333, 0.25333333]],\n",
       "\n",
       "       [[0.74222222, 0.94666667, 0.37333333],\n",
       "        [0.51555556, 0.71111111, 0.21777778],\n",
       "        [0.32      , 0.48444444, 0.19111111],\n",
       "        ...,\n",
       "        [0.46666667, 0.63111111, 0.35111111],\n",
       "        [0.46666667, 0.63111111, 0.32      ],\n",
       "        [0.39555556, 0.56444444, 0.25333333]],\n",
       "\n",
       "       [[0.62222222, 0.84888889, 0.28888889],\n",
       "        [0.63111111, 0.85777778, 0.29333333],\n",
       "        [0.52888889, 0.72444444, 0.35111111],\n",
       "        ...,\n",
       "        [0.46222222, 0.61777778, 0.37333333],\n",
       "        [0.37333333, 0.53333333, 0.25777778],\n",
       "        [0.34666667, 0.51111111, 0.21777778]],\n",
       "\n",
       "       ...,\n",
       "\n",
       "       [[0.61777778, 0.65777778, 0.36      ],\n",
       "        [0.63111111, 0.68888889, 0.32888889],\n",
       "        [0.6       , 0.69333333, 0.32      ],\n",
       "        ...,\n",
       "        [0.39555556, 0.59555556, 0.12444444],\n",
       "        [0.43111111, 0.65777778, 0.10666667],\n",
       "        [0.56      , 0.78222222, 0.21777778]],\n",
       "\n",
       "       [[0.72444444, 0.69777778, 0.37777778],\n",
       "        [0.68      , 0.72888889, 0.36444444],\n",
       "        [0.64888889, 0.72888889, 0.4       ],\n",
       "        ...,\n",
       "        [0.37777778, 0.57777778, 0.08444444],\n",
       "        [0.43555556, 0.65777778, 0.12      ],\n",
       "        [0.56444444, 0.79111111, 0.21333333]],\n",
       "\n",
       "       [[0.81333333, 0.68      , 0.45333333],\n",
       "        [0.78222222, 0.80888889, 0.51555556],\n",
       "        [0.68444444, 0.68444444, 0.44444444],\n",
       "        ...,\n",
       "        [0.41777778, 0.59555556, 0.12888889],\n",
       "        [0.40444444, 0.59111111, 0.11555556],\n",
       "        [0.54222222, 0.75555556, 0.19555556]]])"
      ]
     },
     "execution_count": 45,
     "metadata": {},
     "output_type": "execute_result"
    }
   ],
   "source": [
    "x_train[6]/225"
   ]
  },
  {
   "cell_type": "code",
   "execution_count": 46,
   "id": "7a9838a6",
   "metadata": {},
   "outputs": [
    {
     "data": {
      "text/plain": [
       "array([[[0.12444444, 0.15555556, 0.17333333],\n",
       "        [0.13333333, 0.15111111, 0.19555556],\n",
       "        [0.14666667, 0.19555556, 0.20888889],\n",
       "        ...,\n",
       "        [0.19111111, 0.24888889, 0.2       ],\n",
       "        [0.23111111, 0.28444444, 0.23555556],\n",
       "        [0.20444444, 0.25777778, 0.20888889]],\n",
       "\n",
       "       [[0.12      , 0.13333333, 0.16888889],\n",
       "        [0.12      , 0.12444444, 0.18222222],\n",
       "        [0.09333333, 0.13777778, 0.17333333],\n",
       "        ...,\n",
       "        [0.49777778, 0.60444444, 0.43111111],\n",
       "        [0.52      , 0.62222222, 0.44888889],\n",
       "        [0.51111111, 0.61333333, 0.44444444]],\n",
       "\n",
       "       [[0.15111111, 0.16      , 0.18666667],\n",
       "        [0.14666667, 0.14666667, 0.19111111],\n",
       "        [0.10666667, 0.13333333, 0.17777778],\n",
       "        ...,\n",
       "        [0.77777778, 0.92444444, 0.63555556],\n",
       "        [0.78666667, 0.92888889, 0.64      ],\n",
       "        [0.78222222, 0.92444444, 0.63555556]],\n",
       "\n",
       "       ...,\n",
       "\n",
       "       [[0.63111111, 0.78222222, 0.52444444],\n",
       "        [0.63111111, 0.78222222, 0.52444444],\n",
       "        [0.66666667, 0.81777778, 0.56444444],\n",
       "        ...,\n",
       "        [0.59555556, 0.77777778, 0.52888889],\n",
       "        [0.56888889, 0.74666667, 0.49777778],\n",
       "        [0.59555556, 0.77777778, 0.52888889]],\n",
       "\n",
       "       [[0.62222222, 0.78222222, 0.55111111],\n",
       "        [0.64444444, 0.8       , 0.57333333],\n",
       "        [0.66666667, 0.82666667, 0.59555556],\n",
       "        ...,\n",
       "        [0.58222222, 0.75555556, 0.52888889],\n",
       "        [0.57777778, 0.75555556, 0.52888889],\n",
       "        [0.54222222, 0.72      , 0.49333333]],\n",
       "\n",
       "       [[0.59555556, 0.76      , 0.54666667],\n",
       "        [0.60444444, 0.76      , 0.55111111],\n",
       "        [0.60444444, 0.76      , 0.55111111],\n",
       "        ...,\n",
       "        [0.47111111, 0.64      , 0.44444444],\n",
       "        [0.46222222, 0.63111111, 0.44      ],\n",
       "        [0.44888889, 0.62222222, 0.42666667]]])"
      ]
     },
     "execution_count": 46,
     "metadata": {},
     "output_type": "execute_result"
    }
   ],
   "source": [
    "x_train[7]/225"
   ]
  },
  {
   "cell_type": "code",
   "execution_count": 47,
   "id": "b87fb37d",
   "metadata": {},
   "outputs": [
    {
     "data": {
      "text/plain": [
       "array([[[0.59555556, 0.82666667, 0.99111111],\n",
       "        [0.58222222, 0.81777778, 0.97777778],\n",
       "        [0.56888889, 0.80888889, 0.96888889],\n",
       "        ...,\n",
       "        [0.56444444, 0.80444444, 0.98666667],\n",
       "        [0.56444444, 0.80444444, 0.98666667],\n",
       "        [0.56888889, 0.80888889, 0.99111111]],\n",
       "\n",
       "       [[0.59111111, 0.84      , 1.01333333],\n",
       "        [0.57333333, 0.82666667, 0.99555556],\n",
       "        [0.56888889, 0.82666667, 0.99555556],\n",
       "        ...,\n",
       "        [0.56444444, 0.81333333, 0.99555556],\n",
       "        [0.56444444, 0.81333333, 0.99555556],\n",
       "        [0.56888889, 0.81777778, 1.        ]],\n",
       "\n",
       "       [[0.56888889, 0.82222222, 1.00444444],\n",
       "        [0.56444444, 0.80888889, 0.99111111],\n",
       "        [0.56888889, 0.80888889, 0.99111111],\n",
       "        ...,\n",
       "        [0.56      , 0.80444444, 0.98666667],\n",
       "        [0.56      , 0.80444444, 0.98666667],\n",
       "        [0.56      , 0.8       , 0.98222222]],\n",
       "\n",
       "       ...,\n",
       "\n",
       "       [[0.77333333, 0.92444444, 1.04444444],\n",
       "        [0.76      , 0.91555556, 1.01777778],\n",
       "        [0.68888889, 0.84      , 0.96      ],\n",
       "        ...,\n",
       "        [0.12      , 0.41777778, 0.60444444],\n",
       "        [0.12888889, 0.42666667, 0.60888889],\n",
       "        [0.12444444, 0.41777778, 0.60444444]],\n",
       "\n",
       "       [[0.86222222, 0.98222222, 1.08444444],\n",
       "        [0.84      , 0.95555556, 1.06222222],\n",
       "        [0.70666667, 0.87111111, 1.        ],\n",
       "        ...,\n",
       "        [0.13333333, 0.42222222, 0.61333333],\n",
       "        [0.13333333, 0.42666667, 0.61777778],\n",
       "        [0.13333333, 0.42222222, 0.62222222]],\n",
       "\n",
       "       [[0.85777778, 0.96444444, 1.05333333],\n",
       "        [0.80444444, 0.92444444, 1.02222222],\n",
       "        [0.74666667, 0.89333333, 1.00888889],\n",
       "        ...,\n",
       "        [0.13777778, 0.41777778, 0.60444444],\n",
       "        [0.14222222, 0.41777778, 0.60888889],\n",
       "        [0.14222222, 0.41777778, 0.61333333]]])"
      ]
     },
     "execution_count": 47,
     "metadata": {},
     "output_type": "execute_result"
    }
   ],
   "source": [
    "x_train[8]/225"
   ]
  },
  {
   "cell_type": "code",
   "execution_count": 48,
   "id": "fbd4ae1d",
   "metadata": {},
   "outputs": [
    {
     "data": {
      "text/plain": [
       "array([[[0.55555556, 0.55555556, 0.51555556],\n",
       "        [0.48888889, 0.44888889, 0.40444444],\n",
       "        [0.45333333, 0.4       , 0.36888889],\n",
       "        ...,\n",
       "        [0.89777778, 0.92      , 0.95111111],\n",
       "        [0.88888889, 0.91111111, 0.94222222],\n",
       "        [0.89777778, 0.92444444, 0.95111111]],\n",
       "\n",
       "       [[0.63111111, 0.64888889, 0.63111111],\n",
       "        [0.64888889, 0.64      , 0.61777778],\n",
       "        [0.78222222, 0.76444444, 0.75555556],\n",
       "        ...,\n",
       "        [0.86666667, 0.89333333, 0.91111111],\n",
       "        [0.88      , 0.91111111, 0.92888889],\n",
       "        [0.90666667, 0.93777778, 0.95555556]],\n",
       "\n",
       "       [[0.8       , 0.82222222, 0.81333333],\n",
       "        [0.63555556, 0.64888889, 0.64888889],\n",
       "        [0.69333333, 0.69777778, 0.69777778],\n",
       "        ...,\n",
       "        [0.54222222, 0.49333333, 0.50222222],\n",
       "        [0.61777778, 0.56888889, 0.58222222],\n",
       "        [0.70222222, 0.65333333, 0.66666667]],\n",
       "\n",
       "       ...,\n",
       "\n",
       "       [[0.46222222, 0.36444444, 0.18222222],\n",
       "        [0.44888889, 0.35555556, 0.17333333],\n",
       "        [0.44888889, 0.36      , 0.16888889],\n",
       "        ...,\n",
       "        [0.56      , 0.45777778, 0.29777778],\n",
       "        [0.56      , 0.45777778, 0.30666667],\n",
       "        [0.55555556, 0.44888889, 0.30222222]],\n",
       "\n",
       "       [[0.46222222, 0.36      , 0.17777778],\n",
       "        [0.46666667, 0.37333333, 0.18222222],\n",
       "        [0.48444444, 0.39111111, 0.19111111],\n",
       "        ...,\n",
       "        [0.61333333, 0.50222222, 0.34666667],\n",
       "        [0.60888889, 0.50222222, 0.35555556],\n",
       "        [0.60888889, 0.49777778, 0.36      ]],\n",
       "\n",
       "       [[0.46666667, 0.36888889, 0.18666667],\n",
       "        [0.48      , 0.38666667, 0.2       ],\n",
       "        [0.51111111, 0.41777778, 0.22222222],\n",
       "        ...,\n",
       "        [0.63555556, 0.52      , 0.36444444],\n",
       "        [0.63555556, 0.51555556, 0.37333333],\n",
       "        [0.64      , 0.51555556, 0.38222222]]])"
      ]
     },
     "execution_count": 48,
     "metadata": {},
     "output_type": "execute_result"
    }
   ],
   "source": [
    "x_train[9]/225"
   ]
  },
  {
   "cell_type": "code",
   "execution_count": 49,
   "id": "0accae2d",
   "metadata": {},
   "outputs": [
    {
     "data": {
      "text/plain": [
       "array([[[0.23555556, 0.28888889, 0.23555556],\n",
       "        [0.24      , 0.28      , 0.23111111],\n",
       "        [0.24888889, 0.26666667, 0.22222222],\n",
       "        ...,\n",
       "        [0.20888889, 0.22666667, 0.22222222],\n",
       "        [0.18222222, 0.2       , 0.19555556],\n",
       "        [0.10666667, 0.12444444, 0.12      ]],\n",
       "\n",
       "       [[0.20444444, 0.26222222, 0.18222222],\n",
       "        [0.23555556, 0.27555556, 0.2       ],\n",
       "        [0.24      , 0.26222222, 0.19555556],\n",
       "        ...,\n",
       "        [0.18666667, 0.20444444, 0.2       ],\n",
       "        [0.17333333, 0.19111111, 0.18666667],\n",
       "        [0.12444444, 0.14222222, 0.13777778]],\n",
       "\n",
       "       [[0.2       , 0.26222222, 0.16888889],\n",
       "        [0.22222222, 0.26666667, 0.18222222],\n",
       "        [0.20444444, 0.23111111, 0.15111111],\n",
       "        ...,\n",
       "        [0.16888889, 0.18666667, 0.18222222],\n",
       "        [0.16      , 0.17777778, 0.17333333],\n",
       "        [0.12888889, 0.14666667, 0.14222222]],\n",
       "\n",
       "       ...,\n",
       "\n",
       "       [[0.31555556, 0.36888889, 0.29333333],\n",
       "        [0.32888889, 0.36888889, 0.29333333],\n",
       "        [0.35555556, 0.37777778, 0.29777778],\n",
       "        ...,\n",
       "        [0.22666667, 0.24      , 0.14666667],\n",
       "        [0.20444444, 0.21777778, 0.15111111],\n",
       "        [0.21777778, 0.22222222, 0.18222222]],\n",
       "\n",
       "       [[0.33333333, 0.36444444, 0.29777778],\n",
       "        [0.35111111, 0.37777778, 0.30666667],\n",
       "        [0.36      , 0.37777778, 0.29777778],\n",
       "        ...,\n",
       "        [0.27111111, 0.28888889, 0.18222222],\n",
       "        [0.28444444, 0.29777778, 0.21333333],\n",
       "        [0.21333333, 0.22222222, 0.18222222]],\n",
       "\n",
       "       [[0.37777778, 0.36888889, 0.31555556],\n",
       "        [0.37777778, 0.37333333, 0.31555556],\n",
       "        [0.38222222, 0.38222222, 0.31111111],\n",
       "        ...,\n",
       "        [0.27111111, 0.28888889, 0.17333333],\n",
       "        [0.28444444, 0.29777778, 0.20444444],\n",
       "        [0.21777778, 0.22222222, 0.18222222]]])"
      ]
     },
     "execution_count": 49,
     "metadata": {},
     "output_type": "execute_result"
    }
   ],
   "source": [
    "x_train[10]/225"
   ]
  },
  {
   "cell_type": "code",
   "execution_count": 50,
   "id": "e41948d0",
   "metadata": {},
   "outputs": [
    {
     "ename": "MemoryError",
     "evalue": "Unable to allocate 1.14 GiB for an array with shape (50000, 32, 32, 3) and data type float64",
     "output_type": "error",
     "traceback": [
      "\u001b[1;31m---------------------------------------------------------------------------\u001b[0m",
      "\u001b[1;31mMemoryError\u001b[0m                               Traceback (most recent call last)",
      "Cell \u001b[1;32mIn[50], line 1\u001b[0m\n\u001b[1;32m----> 1\u001b[0m x_train \u001b[38;5;241m=\u001b[39m x_train \u001b[38;5;241m/\u001b[39m \u001b[38;5;241m225\u001b[39m\n\u001b[0;32m      2\u001b[0m x_test \u001b[38;5;241m=\u001b[39m x_test \u001b[38;5;241m/\u001b[39m \u001b[38;5;241m225\u001b[39m\n",
      "\u001b[1;31mMemoryError\u001b[0m: Unable to allocate 1.14 GiB for an array with shape (50000, 32, 32, 3) and data type float64"
     ]
    }
   ],
   "source": [
    "x_train = x_train / 225\n",
    "x_test = x_test / 225"
   ]
  },
  {
   "cell_type": "code",
   "execution_count": 9,
   "id": "343219bc",
   "metadata": {},
   "outputs": [
    {
     "data": {
      "text/plain": [
       "array([[6],\n",
       "       [9],\n",
       "       [9],\n",
       "       [4],\n",
       "       [1]], dtype=uint8)"
      ]
     },
     "execution_count": 9,
     "metadata": {},
     "output_type": "execute_result"
    }
   ],
   "source": [
    "y_train[:5]"
   ]
  },
  {
   "cell_type": "code",
   "execution_count": 12,
   "id": "19d411cc",
   "metadata": {},
   "outputs": [
    {
     "data": {
      "text/plain": [
       "array([6, 9, 9, 4, 1], dtype=uint8)"
      ]
     },
     "execution_count": 12,
     "metadata": {},
     "output_type": "execute_result"
    }
   ],
   "source": [
    "y_train = y_train.reshape(-1,)\n",
    "y_train[:5]"
   ]
  },
  {
   "cell_type": "code",
   "execution_count": 13,
   "id": "1183a594",
   "metadata": {},
   "outputs": [
    {
     "data": {
      "text/plain": [
       "(50000,)"
      ]
     },
     "execution_count": 13,
     "metadata": {},
     "output_type": "execute_result"
    }
   ],
   "source": [
    "y_train.shape"
   ]
  },
  {
   "cell_type": "code",
   "execution_count": 14,
   "id": "9a217baa",
   "metadata": {},
   "outputs": [],
   "source": [
    "classes = [\"airplane\", \"automoblie\", \"bird\", \"cat\", \"deer\", \"dog\", \"frog\", \"horse\", \"ship\", \"truck\"]"
   ]
  },
  {
   "cell_type": "code",
   "execution_count": 16,
   "id": "20f13884",
   "metadata": {},
   "outputs": [
    {
     "data": {
      "text/plain": [
       "'truck'"
      ]
     },
     "execution_count": 16,
     "metadata": {},
     "output_type": "execute_result"
    }
   ],
   "source": [
    "classes[9]"
   ]
  },
  {
   "cell_type": "code",
   "execution_count": 17,
   "id": "f1e79728",
   "metadata": {},
   "outputs": [],
   "source": [
    "def plot_sample (X, y, index):\n",
    "    plt.figure(figsize = (15,2))\n",
    "    plt.imshow(X[index])\n",
    "    plt.xlabel(classes[y[index]])"
   ]
  },
  {
   "cell_type": "code",
   "execution_count": 19,
   "id": "bfca809f",
   "metadata": {},
   "outputs": [
    {
     "data": {
      "image/png": "[encoded data removed]",
      "text/plain": [
       "<Figure size 1500x200 with 1 Axes>"
      ]
     },
     "metadata": {},
     "output_type": "display_data"
    }
   ],
   "source": [
    "plot_sample(x_train, y_train, 0)"
   ]
  },
  {
   "cell_type": "code",
   "execution_count": 20,
   "id": "80aa6aad",
   "metadata": {},
   "outputs": [
    {
     "data": {
      "image/png": "[encoded data removed]",
      "text/plain": [
       "<Figure size 1500x200 with 1 Axes>"
      ]
     },
     "metadata": {},
     "output_type": "display_data"
    }
   ],
   "source": [
    "plot_sample(x_train, y_train, 1)"
   ]
  },
  {
   "cell_type": "code",
   "execution_count": 21,
   "id": "3fcad0cb",
   "metadata": {},
   "outputs": [
    {
     "data": {
      "image/png": "[encoded data removed]",
      "text/plain": [
       "<Figure size 1500x200 with 1 Axes>"
      ]
     },
     "metadata": {},
     "output_type": "display_data"
    }
   ],
   "source": [
    "plot_sample(x_train, y_train, 2)"
   ]
  },
  {
   "cell_type": "code",
   "execution_count": 22,
   "id": "8a620d03",
   "metadata": {},
   "outputs": [
    {
     "data": {
      "image/png": "[encoded data removed]",
      "text/plain": [
       "<Figure size 1500x200 with 1 Axes>"
      ]
     },
     "metadata": {},
     "output_type": "display_data"
    }
   ],
   "source": [
    "plot_sample(x_train, y_train, 3)"
   ]
  },
  {
   "cell_type": "code",
   "execution_count": 23,
   "id": "64ceb034",
   "metadata": {},
   "outputs": [
    {
     "data": {
      "image/png": "[encoded data removed]",
      "text/plain": [
       "<Figure size 1500x200 with 1 Axes>"
      ]
     },
     "metadata": {},
     "output_type": "display_data"
    }
   ],
   "source": [
    "plot_sample(x_train, y_train, 4)"
   ]
  },
  {
   "cell_type": "code",
   "execution_count": 24,
   "id": "58847035",
   "metadata": {},
   "outputs": [
    {
     "data": {
      "image/png": "[encoded data removed]",
      "text/plain": [
       "<Figure size 1500x200 with 1 Axes>"
      ]
     },
     "metadata": {},
     "output_type": "display_data"
    }
   ],
   "source": [
    "plot_sample(x_train, y_train, 5)"
   ]
  },
  {
   "cell_type": "code",
   "execution_count": 25,
   "id": "757a5e55",
   "metadata": {},
   "outputs": [
    {
     "data": {
      "image/png": "[encoded data removed]",
      "text/plain": [
       "<Figure size 1500x200 with 1 Axes>"
      ]
     },
     "metadata": {},
     "output_type": "display_data"
    }
   ],
   "source": [
    "plot_sample(x_train, y_train, 6)"
   ]
  },
  {
   "cell_type": "code",
   "execution_count": 26,
   "id": "beef08da",
   "metadata": {},
   "outputs": [
    {
     "data": {
      "image/png": "[encoded data removed]",
      "text/plain": [
       "<Figure size 1500x200 with 1 Axes>"
      ]
     },
     "metadata": {},
     "output_type": "display_data"
    }
   ],
   "source": [
    "plot_sample(x_train, y_train, 7)"
   ]
  },
  {
   "cell_type": "code",
   "execution_count": 27,
   "id": "0b871360",
   "metadata": {},
   "outputs": [
    {
     "data": {
      "image/png": "[encoded data removed]",
      "text/plain": [
       "<Figure size 1500x200 with 1 Axes>"
      ]
     },
     "metadata": {},
     "output_type": "display_data"
    }
   ],
   "source": [
    "plot_sample(x_train, y_train, 8)"
   ]
  },
  {
   "cell_type": "code",
   "execution_count": 28,
   "id": "07d148f2",
   "metadata": {},
   "outputs": [
    {
     "data": {
      "image/png": "[encoded data removed]",
      "text/plain": [
       "<Figure size 1500x200 with 1 Axes>"
      ]
     },
     "metadata": {},
     "output_type": "display_data"
    }
   ],
   "source": [
    "plot_sample(x_train, y_train, 9)"
   ]
  },
  {
   "cell_type": "code",
   "execution_count": 29,
   "id": "6e63a620",
   "metadata": {},
   "outputs": [
    {
     "data": {
      "image/png": "[encoded data removed]",
      "text/plain": [
       "<Figure size 1500x200 with 1 Axes>"
      ]
     },
     "metadata": {},
     "output_type": "display_data"
    }
   ],
   "source": [
    "plot_sample(x_train, y_train, 10)"
   ]
  },
  {
   "cell_type": "code",
   "execution_count": 53,
   "id": "fb57c337",
   "metadata": {},
   "outputs": [],
   "source": [
    "cnn = models.Sequential([\n",
    "    \n",
    "    #cnn \n",
    "    layers.Conv2D(filters=32, kernel_size=(3,3),activation= 'relu', input_shape=(32,32,3)),\n",
    "    layers.MaxPooling2D((2,2)),\n",
    "    layers.Conv2D(filters=64, kernel_size=(3,3),activation= 'relu'),\n",
    "    layers.MaxPooling2D((2,2)),\n",
    "    \n",
    "    #dense\n",
    "    layers.Flatten(),\n",
    "    layers.Dense(64, activation = 'relu'), \n",
    "    layers.Dense(10, activation = 'softmax')\n",
    "])\n",
    "\n"
   ]
  },
  {
   "cell_type": "code",
   "execution_count": 54,
   "id": "6a566443",
   "metadata": {},
   "outputs": [],
   "source": [
    " cnn.compile(optimizer='adam',\n",
    "    loss='sparse_categorical_crossentropy',\n",
    "    metrics=['accuracy'])"
   ]
  },
  {
   "cell_type": "code",
   "execution_count": 56,
   "id": "537e4a5c",
   "metadata": {},
   "outputs": [
    {
     "name": "stdout",
     "output_type": "stream",
     "text": [
      "Epoch 1/10\n",
      "1563/1563 [==============================] - 63s 39ms/step - loss: 1.8769 - accuracy: 0.3909\n",
      "Epoch 2/10\n",
      "1563/1563 [==============================] - 55s 35ms/step - loss: 1.2944 - accuracy: 0.5422\n",
      "Epoch 3/10\n",
      "1563/1563 [==============================] - 55s 35ms/step - loss: 1.1395 - accuracy: 0.5990\n",
      "Epoch 4/10\n",
      "1563/1563 [==============================] - 55s 35ms/step - loss: 1.0348 - accuracy: 0.6391\n",
      "Epoch 5/10\n",
      "1563/1563 [==============================] - 57s 36ms/step - loss: 0.9504 - accuracy: 0.6700\n",
      "Epoch 6/10\n",
      "1563/1563 [==============================] - 56s 36ms/step - loss: 0.8771 - accuracy: 0.6939\n",
      "Epoch 7/10\n",
      "1563/1563 [==============================] - 55s 35ms/step - loss: 0.8214 - accuracy: 0.7153\n",
      "Epoch 8/10\n",
      "1563/1563 [==============================] - 56s 36ms/step - loss: 0.7622 - accuracy: 0.7350\n",
      "Epoch 9/10\n",
      "1563/1563 [==============================] - 58s 37ms/step - loss: 0.7179 - accuracy: 0.7511\n",
      "Epoch 10/10\n",
      "1563/1563 [==============================] - 56s 36ms/step - loss: 0.6755 - accuracy: 0.7638\n"
     ]
    },
    {
     "data": {
      "text/plain": [
       "<keras.src.callbacks.History at 0x161d7e1fad0>"
      ]
     },
     "execution_count": 56,
     "metadata": {},
     "output_type": "execute_result"
    }
   ],
   "source": [
    "cnn.fit( x_train,y_train, epochs=10)"
   ]
  },
  {
   "cell_type": "code",
   "execution_count": 57,
   "id": "2196ad68",
   "metadata": {},
   "outputs": [
    {
     "name": "stdout",
     "output_type": "stream",
     "text": [
      "313/313 [==============================] - 6s 15ms/step - loss: 1.1233 - accuracy: 0.6481\n"
     ]
    },
    {
     "data": {
      "text/plain": [
       "[1.1233289241790771, 0.6481000185012817]"
      ]
     },
     "execution_count": 57,
     "metadata": {},
     "output_type": "execute_result"
    }
   ],
   "source": [
    "cnn.evaluate(x_test,y_test)"
   ]
  },
  {
   "cell_type": "code",
   "execution_count": 60,
   "id": "e3e1300f",
   "metadata": {},
   "outputs": [
    {
     "name": "stdout",
     "output_type": "stream",
     "text": [
      "313/313 [==============================] - 5s 15ms/step\n"
     ]
    }
   ],
   "source": [
    "y_pred=cnn.predict(x_test)"
   ]
  },
  {
   "cell_type": "code",
   "execution_count": null,
   "id": "d0437901",
   "metadata": {},
   "outputs": [],
   "source": []
  },
  {
   "cell_type": "code",
   "execution_count": 64,
   "id": "2d11a96e",
   "metadata": {},
   "outputs": [
    {
     "data": {
      "text/plain": [
       "array([3, 8, 8, 0, 6], dtype=uint8)"
      ]
     },
     "execution_count": 64,
     "metadata": {},
     "output_type": "execute_result"
    }
   ],
   "source": [
    "y_test = y_test.reshape(-1,)\n",
    "y_test[:5]"
   ]
  },
  {
   "cell_type": "code",
   "execution_count": 65,
   "id": "c0bbd970",
   "metadata": {},
   "outputs": [
    {
     "data": {
      "image/png": "[encoded data removed]",
      "text/plain": [
       "<Figure size 1500x200 with 1 Axes>"
      ]
     },
     "metadata": {},
     "output_type": "display_data"
    }
   ],
   "source": [
    "plot_sample(x_test, y_test, 1)"
   ]
  },
  {
   "cell_type": "code",
   "execution_count": 66,
   "id": "9b4e407d",
   "metadata": {},
   "outputs": [
    {
     "name": "stdout",
     "output_type": "stream",
     "text": [
      "313/313 [==============================] - 5s 15ms/step\n"
     ]
    },
    {
     "data": {
      "text/plain": [
       "array([[1.37010636e-02, 2.94236653e-03, 1.02674905e-02, 3.90066475e-01,\n",
       "        3.08458097e-02, 3.29342149e-02, 4.98927861e-01, 4.18082724e-04,\n",
       "        1.73890926e-02, 2.50760419e-03],\n",
       "       [7.95381420e-05, 7.68136144e-01, 3.60888291e-10, 1.85295708e-08,\n",
       "        3.42551348e-10, 1.61538040e-11, 8.74048833e-09, 2.13510723e-10,\n",
       "        2.30787233e-01, 9.97074996e-04],\n",
       "       [1.94219857e-01, 1.32936031e-01, 1.27086146e-02, 8.01132433e-03,\n",
       "        7.12695252e-03, 1.29083393e-03, 3.50895058e-03, 1.19850156e-03,\n",
       "        5.48098207e-01, 9.09007564e-02],\n",
       "       [9.48691905e-01, 1.00922538e-03, 6.43380277e-04, 1.03542217e-04,\n",
       "        5.62363071e-04, 3.36237645e-05, 9.58420351e-05, 2.88938700e-05,\n",
       "        4.67638560e-02, 2.06743064e-03],\n",
       "       [3.31050542e-05, 5.90967647e-06, 1.37702405e-01, 1.30793010e-03,\n",
       "        6.70331776e-01, 2.62684878e-02, 1.64295524e-01, 4.95145059e-06,\n",
       "        3.31718326e-07, 4.97218934e-05]], dtype=float32)"
      ]
     },
     "execution_count": 66,
     "metadata": {},
     "output_type": "execute_result"
    }
   ],
   "source": [
    "y_pred = cnn.predict(x_test)\n",
    "y_pred[:5]"
   ]
  },
  {
   "cell_type": "code",
   "execution_count": 70,
   "id": "8a42c491",
   "metadata": {},
   "outputs": [
    {
     "data": {
      "text/plain": [
       "[6, 1, 8, 0, 4]"
      ]
     },
     "execution_count": 70,
     "metadata": {},
     "output_type": "execute_result"
    }
   ],
   "source": [
    "y_classes = [np.argmax(element) for element in y_pred]\n",
    "y_classes[:5]"
   ]
  },
  {
   "cell_type": "code",
   "execution_count": 71,
   "id": "5fea9d45",
   "metadata": {},
   "outputs": [
    {
     "data": {
      "text/plain": [
       "array([3, 8, 8, 0, 6], dtype=uint8)"
      ]
     },
     "execution_count": 71,
     "metadata": {},
     "output_type": "execute_result"
    }
   ],
   "source": [
    "y_test[:5]"
   ]
  },
  {
   "cell_type": "code",
   "execution_count": 61,
   "id": "7e23eb7d",
   "metadata": {},
   "outputs": [],
   "source": [
    "y_classes=[np.argmax(element) for element in y_pred]\n"
   ]
  },
  {
   "cell_type": "code",
   "execution_count": 73,
   "id": "df0640e6",
   "metadata": {},
   "outputs": [
    {
     "data": {
      "image/png": "[encoded data removed]",
      "text/plain": [
       "<Figure size 1500x200 with 1 Axes>"
      ]
     },
     "metadata": {},
     "output_type": "display_data"
    }
   ],
   "source": [
    "plot_sample(x_test, y_test, 1)"
   ]
  },
  {
   "cell_type": "code",
   "execution_count": 75,
   "id": "87291feb",
   "metadata": {},
   "outputs": [
    {
     "data": {
      "text/plain": [
       "'automoblie'"
      ]
     },
     "execution_count": 75,
     "metadata": {},
     "output_type": "execute_result"
    }
   ],
   "source": [
    "classes[y_classes[1]]"
   ]
  },
  {
   "cell_type": "code",
   "execution_count": 77,
   "id": "ab5d75ac",
   "metadata": {},
   "outputs": [
    {
     "name": "stdout",
     "output_type": "stream",
     "text": [
      "Classification Report: \n",
      "               precision    recall  f1-score   support\n",
      "\n",
      "           0       0.64      0.73      0.68      1000\n",
      "           1       0.76      0.80      0.78      1000\n",
      "           2       0.59      0.47      0.52      1000\n",
      "           3       0.51      0.43      0.46      1000\n",
      "           4       0.54      0.62      0.58      1000\n",
      "           5       0.66      0.43      0.52      1000\n",
      "           6       0.70      0.73      0.72      1000\n",
      "           7       0.65      0.73      0.69      1000\n",
      "           8       0.77      0.73      0.75      1000\n",
      "           9       0.65      0.80      0.72      1000\n",
      "\n",
      "    accuracy                           0.65     10000\n",
      "   macro avg       0.65      0.65      0.64     10000\n",
      "weighted avg       0.65      0.65      0.64     10000\n",
      "\n"
     ]
    }
   ],
   "source": [
    "from sklearn.metrics import classification_report\n",
    "\n",
    "\n",
    "print(\"Classification Report: \\n\", classification_report(y_test, y_classes))"
   ]
  },
  {
   "cell_type": "code",
   "execution_count": 78,
   "id": "db7f19ef",
   "metadata": {},
   "outputs": [
    {
     "name": "stdout",
     "output_type": "stream",
     "text": [
      "Confusion Matrix:\n",
      " [[733  28  43   8  26   6   9  18  77  52]\n",
      " [ 35 803   3   2   2   3   8   5  23 116]\n",
      " [ 84  20 475  58 121  49  72  58  32  31]\n",
      " [ 53  23  56 426 118 102  82  54  25  61]\n",
      " [ 41  10  53  48 616  13  69 127  15   8]\n",
      " [ 27   9  88 173  86 433  43  97  15  29]\n",
      " [  8  11  48  73  72   9 730  12   6  31]\n",
      " [ 23  14  29  35  70  40  14 729   3  43]\n",
      " [108  50   9  14  12   4   7   9 732  55]\n",
      " [ 42  89   7   5   8   1   5  13  26 804]]\n"
     ]
    }
   ],
   "source": [
    "from sklearn.metrics import confusion_matrix\n",
    "\n",
    "# Assuming you have y_test and y_classes as defined earlier\n",
    "conf_matrix = confusion_matrix(y_test, y_classes)\n",
    "\n",
    "print(\"Confusion Matrix:\\n\", conf_matrix)\n",
    "\n"
   ]
  },
  {
   "cell_type": "code",
   "execution_count": 80,
   "id": "6f0efc5b",
   "metadata": {},
   "outputs": [
    {
     "data": {
      "image/png": "[encoded data removed]",
      "text/plain": [
       "<Figure size 800x600 with 1 Axes>"
      ]
     },
     "metadata": {},
     "output_type": "display_data"
    }
   ],
   "source": [
    "import numpy as np\n",
    "import matplotlib.pyplot as plt\n",
    "import seaborn as sns\n",
    "from sklearn.metrics import confusion_matrix\n",
    "# Define class labels (adjust these labels to match your specific dataset)\n",
    "class_labels = [\"Class 0\", \"Class 1\", \"Class 2\", \"Class 3\",\"Class 4\",\"Class 5\",\"Class 6\",\"Class 7\",\"Class 8\", \"Class 9\"]\n",
    "\n",
    "# Create a heatmap\n",
    "plt.figure(figsize=(8, 6))\n",
    "sns.heatmap(conf_matrix, annot=True, fmt=\"d\", cmap=\"Blues\", cbar=False, square=True, xticklabels=class_labels, yticklabels=class_labels)\n",
    "plt.xlabel(\"Predicted Labels\")\n",
    "plt.ylabel(\"True Labels\")\n",
    "plt.title(\"Confusion Matrix\")\n",
    "plt.show()"
   ]
  },
  {
   "cell_type": "code",
   "execution_count": null,
   "id": "7a2147a8",
   "metadata": {},
   "outputs": [],
   "source": []
  }
 ],
 "metadata": {
  "kernelspec": {
   "display_name": "Python 3 (ipykernel)",
   "language": "python",
   "name": "python3"
  },
  "language_info": {
   "codemirror_mode": {
    "name": "ipython",
    "version": 3
   },
   "file_extension": ".py",
   "mimetype": "text/x-python",
   "name": "python",
   "nbconvert_exporter": "python",
   "pygments_lexer": "ipython3",
   "version": "3.11.4"
  }
 },
 "nbformat": 4,
 "nbformat_minor": 5
}
